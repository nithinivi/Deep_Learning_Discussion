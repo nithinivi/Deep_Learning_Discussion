{
 "cells": [
  {
   "cell_type": "code",
   "execution_count": 4,
   "id": "0a808fce",
   "metadata": {},
   "outputs": [],
   "source": [
    "import matplotlib as cm\n",
    "import numpy as np\n",
    "import scipy.stats as stats\n",
    "import matplotlib.pyplot as plt "
   ]
  },
  {
   "cell_type": "code",
   "execution_count": 5,
   "id": "1ee82ca4",
   "metadata": {},
   "outputs": [],
   "source": [
    "\n",
    "cm.style.use('ggplot')\n",
    "%matplotlib inline"
   ]
  },
  {
   "cell_type": "markdown",
   "id": "59416baf",
   "metadata": {},
   "source": [
    "\n",
    "# What the heck is 6 sigma?\n",
    "\n",
    "The probability density function (PDF) is used to specify the probability of the random variable falling within a particular range of values, as opposed to taking on any one value. This probability is given by the integral of this variable’s PDF over that range — that is, it is given by the area under the density function but above the horizontal axis and between the lowest and greatest values of the range. This definition might not make much sense so let’s clear it up by graphing the probability density function for a normal distribution. The equation below is the probability density function for a normal distribution\n",
    "\n",
    "\\begin{equation}\n",
    "f(x | \\mu , \\sigma^2) = \\frac{1}{\\sigma \\sqrt{2 \\pi}}e^{-\\frac{(x- \\mu)^2}{2 \\sigma^2}}\\text{, where $x\\in \\mathbb{R}$}\n",
    "\\end{equation}\n",
    "\n",
    "\n",
    "\n",
    "Let's consider the condition where the $ \\mu = 0 $  and the \\sigma^2=1 ,\n",
    "\n",
    "\\begin{equation}\n",
    "f(x) = \\frac{1}{\\sqrt{2 \\ pi e^{-\\frac{x}{2}\n",
    "\\end{equation}\n"
   ]
  },
  {
   "cell_type": "code",
   "execution_count": null,
   "id": "c892fc76",
   "metadata": {},
   "outputs": [],
   "source": []
  }
 ],
 "metadata": {
  "kernelspec": {
   "display_name": "Python 3",
   "language": "python",
   "name": "python3"
  },
  "language_info": {
   "codemirror_mode": {
    "name": "ipython",
    "version": 3
   },
   "file_extension": ".py",
   "mimetype": "text/x-python",
   "name": "python",
   "nbconvert_exporter": "python",
   "pygments_lexer": "ipython3",
   "version": "3.9.5"
  }
 },
 "nbformat": 4,
 "nbformat_minor": 5
}
