{
 "cells": [
  {
   "cell_type": "markdown",
   "id": "c6bb0b44",
   "metadata": {},
   "source": [
    "A hypothesis test involves two hypothesis: the null hypothesis and the alternative hypothesis. The null hypothesis (H0) is a statement to be tested. The alternative hypothesis (HA) is a statement that is considered to be an alternative to the null hypothesis.\n",
    "\n",
    "The hypothesis test is aimed to test if the null hypothesis should be rejected in favor of the alternative hypothesis. The basic logic of a hypothesis test is to compare two statistical data sets. One data set is obtained by sampling and the other data set originates from an idealized model. If the sample data is consistent with the idealized model, the null hypothesis is not rejected; if the sample data is inconsistent with the idealized model and thus, supports an alternative hypothesis, the null hypothesis is rejected in favor of the alternative hypothesis.\n",
    "\n",
    "The criterion for deciding whether to reject the null hypothesis involves a so called test statistic. The test statistic is a number calculated from the data set, which is obtained by measurements and observations, or more general by sampling."
   ]
  },
  {
   "cell_type": "markdown",
   "id": "27ceaa39",
   "metadata": {},
   "source": [
    "Hypothesis Formulation\n",
    "\n",
    "\n",
    "If null hypothesis for a hypothesis test concerning a population mean $\\mu$ and $\\mu_0$ is some number.\n",
    "\n",
    "\n",
    "$\\;\\;\\;\\;\\;\\;$ $H_0: \\mu = \\mu_0,$ <br>\n",
    "**then**  <br>\n",
    "$\\;\\;\\;\\;\\;\\;$ $H_A: \\mu  \\ne \\mu_0\\text{ two sided test.}$  <br>\n",
    "\n",
    "$\\;\\;\\;\\;\\;\\;$ $H_A: \\mu  < \\mu_0\\text{ left tailed test.}$ <br>\n",
    "\n",
    "$\\;\\;\\;\\;\\;\\;$ $H_A: \\mu  > \\mu_0\\text{ right tailed test.}$ <br>\n",
    "\n",
    "\n",
    "\n"
   ]
  },
  {
   "cell_type": "markdown",
   "id": "f215027d",
   "metadata": {},
   "source": [
    "## Reference\n",
    "\n",
    "- https://www.geo.fu-berlin.de/en/v/soga/Basics-of-statistics"
   ]
  },
  {
   "cell_type": "code",
   "execution_count": null,
   "id": "6435412b",
   "metadata": {},
   "outputs": [],
   "source": []
  }
 ],
 "metadata": {
  "kernelspec": {
   "display_name": "Python 3",
   "language": "python",
   "name": "python3"
  },
  "language_info": {
   "codemirror_mode": {
    "name": "ipython",
    "version": 3
   },
   "file_extension": ".py",
   "mimetype": "text/x-python",
   "name": "python",
   "nbconvert_exporter": "python",
   "pygments_lexer": "ipython3",
   "version": "3.9.5"
  }
 },
 "nbformat": 4,
 "nbformat_minor": 5
}
