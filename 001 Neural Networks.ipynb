{
 "cells": [
  {
   "cell_type": "markdown",
   "metadata": {
    "colab_type": "text",
    "id": "view-in-github"
   },
   "source": [
    "<a href=\"https://colab.research.google.com/github/nithinivi/Deep_Learning_Discussion/blob/main/001.ipynb\" target=\"_parent\"><img src=\"https://colab.research.google.com/assets/colab-badge.svg\" alt=\"Open In Colab\"/></a>"
   ]
  },
  {
   "cell_type": "markdown",
   "metadata": {
    "id": "CmSqxL8EiPOm"
   },
   "source": [
    "# Neural Networks\n",
    "\n",
    "Neural networks, a beautiful biologically-inspired programming paradigm which enables a computer to learn from observational data\n",
    "\n",
    "\n",
    "<img src=\"http://neuralnetworksanddeeplearning.com/images/tikz12.png\">"
   ]
  },
  {
   "cell_type": "markdown",
   "metadata": {
    "id": "oyZVNoxBDhah"
   },
   "source": [
    "\n",
    "<img src =\"https://www.codeproject.com/KB/AI/Backprop_ANN/NN2.png\">\n",
    "\n",
    "## relu\n",
    "\n",
    "<img src=\"https://machinelearningmastery.com/wp-content/uploads/2018/10/Line-Plot-of-Rectified-Linear-Activation-for-Negative-and-Positive-Inputs.png\" width=\"400\">\n"
   ]
  },
  {
   "cell_type": "markdown",
   "metadata": {
    "id": "OOAeVY0Yj7zQ"
   },
   "source": [
    "\n",
    "- Dropout\n",
    "\n",
    "<img src=\"https://raw.githubusercontent.com/hiromis/notes/master/lesson6/6.png\" width=400>\n"
   ]
  },
  {
   "cell_type": "markdown",
   "metadata": {
    "id": "79D3o6bTqaZ8"
   },
   "source": [
    "\n",
    "### Loss\n",
    "\n",
    "- Cross Entropy\n",
    "  \n",
    "  Cross-entropy loss, or log loss, measures the performance of a classification model whose output is a probability value between 0 and 1. Cross-entropy loss increases as the predicted probability diverges from the actual label. So predicting a probability of 0.012 when the actual observation label is 1 would be bad and result in a high loss value. A perfect model would have a log loss of 0.\n",
    "\n",
    "\n",
    "![neural network](https://ml-cheatsheet.readthedocs.io/en/latest/_images/cross_entropy.png)\n",
    "\n",
    "\\begin{equation}\n",
    "{(y\\log(p) + (1 - y)\\log(1 - p))}\n",
    "\\end{equation}"
   ]
  },
  {
   "cell_type": "markdown",
   "metadata": {
    "id": "Z4h2kSn6CvdB"
   },
   "source": [
    "### Softmax\n",
    "\n",
    "The softmax function takes as input a vector z of K real numbers, and normalizes it into a probability distribution consisting of K probabilities proportional to the exponentials of the input numbers. That is, prior to applying softmax, some vector components could be negative, or greater than one; and might not sum to 1; but after applying softmax, each component will be in the interval [ 0 , 1 ], and the components will add up to 1, so that they can be interpreted as probabilities. Furthermore, the larger input components will correspond to larger probabilities. \n",
    "\n",
    "\\begin{equation}\n",
    "\\sigma(\\mathbf{z})_i = \\frac{e^{z_i}}{\\sum_{j=1}^K e^{z_j}} \\ \\ \\ \\ \\text{ for } i = 1, \\dotsc , K \\text{ and } \\mathbf z=(z_1,\\dotsc,z_K) \\in R^K.\n",
    "\\end{equation}\n",
    "\n",
    "\n",
    "\n"
   ]
  },
  {
   "cell_type": "markdown",
   "metadata": {
    "id": "a7R8nJxyA99b"
   },
   "source": [
    "  # optim\n",
    "\n",
    "\n",
    "```\n",
    "  def model(inp):\n",
    "      l1 = inp @ w1 + b1\n",
    "      l2 = relu(l1)\n",
    "      out = l2 @ w2 + b2\n",
    "      return out\n",
    "\n",
    "  def backward pass():\n",
    "  # Back Propagation\n",
    "      mse_grad(out, targ)\n",
    "      lin_grad(l2, out, w2, b2)\n",
    "      relu_grad(l1, l2)\n",
    "      lin_grad(inp, l1, w1, b1)\n",
    "  ```\n",
    "  ```\n",
    "  y_hat = model(xb)\n",
    "  loss = loss_func(y_hat, yb)\n",
    "  backard_pass(y_hat, yb) \n",
    "\n",
    "\n",
    "  for l in model.layers:\n",
    "    l.weight -= l.weight.grad * lr\n",
    "    l.bias   -= l.bias.grad   * lr\n",
    "    l.weight.grad.zero_()\n",
    "    l.bias  .grad.zero_()\n",
    "\n",
    "```\n",
    "\n"
   ]
  },
  {
   "cell_type": "markdown",
   "metadata": {
    "id": "n2KaI9znp_sl"
   },
   "source": [
    "### Optimizer\n",
    "\n",
    "- SGD\n",
    "\n",
    "Gradient descent is a way to minimize an objective function $J(\\theta)$ parameterized by a model's parameters $\\theta \\in \\mathbb{R}^d$ by updating the parameters in the opposite direction of the gradient of the objective function $\\nabla_\\theta J(\\theta)$ w.r.t. to the parameters. The learning rate $\\eta$ determines the size of the steps we take to reach a  minimum. In other words, we follow the direction of the slope of the surface created by the objective function downhill until we reach a valley.\n",
    "\n",
    "\n",
    "\n",
    "\\begin{equation}\n",
    "\\theta = \\theta - \\eta \\cdot \\nabla_\\theta J( \\theta)\n",
    "\\end{equation}\n",
    "\n",
    "- Moementum\n",
    "\n",
    "Momentum is a method that helps accelerate SGD in the relevant direction and dampens oscillations . It does this by adding a fraction $\\gamma$ of the update vector of the past time step to the current update vector\n",
    "\\begin{align}\n",
    "\\begin{split}\n",
    "v_t &= \\gamma v_{t-1} + \\eta \\nabla_\\theta J( \\theta)\\\\\n",
    "\\theta &= \\theta - v_t\n",
    "\\end{split}\n",
    "\\end{align}\n",
    "\n",
    "The momentum term $\\gamma$ is usually set to $0.9$ or a similar value.\n",
    "\n",
    "Essentially, when using momentum, we push a ball down a hill. The ball accumulates momentum as it rolls downhill, becoming faster and faster on the way (until it reaches its terminal velocity, if there is air resistance, i.e. $\\gamma < 1$). The same thing happens to our parameter updates: The momentum term increases for dimensions whose gradients point in the same directions and reduces updates for dimensions whose gradients change directions. As a result, we gain faster convergence and reduced oscillation.\n",
    "\n",
    "\n",
    "- Adam \n",
    "\n",
    "Adaptive Moment Estimation (Adam) is a method  that calculates  adaptive learning rates for each parameter. Adam stores an exponentially decaying average of past squared gradients $v_t$ l exponentially decaying average of past gradients $m_t$, similar to momentum:\n",
    "\n",
    " we set $g_{t, i}$ to be the gradient of the objective function w.r.t. to the parameter $\\theta_i$ at time step $t$:\n",
    "\n",
    "\n",
    "\\begin{equation}\n",
    "g_{t, i} = \\nabla_{\\theta_t} J( \\theta_{t,i} )\n",
    "\\end{equation}\n",
    "\n",
    "The SGD update for every parameter $\\theta_i$ at each time step $t$ then becomes:\n",
    "\n",
    "\\begin{equation}\n",
    "\\theta_{t+1} = \\theta_{t} - \\eta \\cdot g_{t}\n",
    "\\end{equation}\n",
    "   \n",
    "\n",
    "Moving variance $v_t$ and mean $m_t$\n",
    "\n",
    "\n",
    "\n",
    "\\begin{align}\n",
    "\\begin{split}\n",
    "m_t &= \\beta_1 m_{t-1} + (1 - \\beta_1) g_t\\\\\n",
    "v_t &= \\beta_2 v_{t-1} + (1 - \\beta_2) g_t^2\n",
    "\\end{split}\n",
    "\\end{align}\n",
    "\n",
    "$m_t$ and $v_t$ are estimates of the  mean and variance of the gradients respectively. As $m_t$ and $v_t$ are initialized as vectors of $0$'s, the authors of Adam observe that they are biased towards zero, especially during the initial time steps, and especially when the decay rates are small \n",
    "\n",
    "They counteract these biases by computing bias-corrected first and second moment estimates:\n",
    "\n",
    "\\begin{align}\n",
    "\\begin{split}\n",
    "\\hat{m}_t &= \\frac{m_t}{1 - \\beta^t_1}\\\\\n",
    "\\hat{v}_t &= \\frac{v_t}{1 - \\beta^t_2}\n",
    "\\end{split}\n",
    "\\end{align}\n",
    "\n",
    "They then use these to update the parameters which yields the Adam update rule:\n",
    "\n",
    "\\begin{equation}\n",
    "\\theta_{t+1} = \\theta_{t} - \\frac{\\eta}{\\sqrt{\\hat{v}_t} + \\epsilon} \\hat{m}_t\n",
    "\\end{equation}\n",
    "\n",
    "The authors propose default values of 0.9 for β1, 0.999 for β2, and 10−8\n",
    "for $\\epsilon$.\n",
    "\n",
    "\n",
    "\n",
    "\n",
    "\n",
    "<img alt=\"\" class=\"pn ut et fh fd mn v c\" width=\"600\" height=\"458\" role=\"presentation\" src=\"https://miro.medium.com/max/600/1*U224pqhF4WUOZhfmDIWtxA.gif\" srcset=\"https://miro.medium.com/max/276/1*U224pqhF4WUOZhfmDIWtxA.gif 276w, https://miro.medium.com/max/552/1*U224pqhF4WUOZhfmDIWtxA.gif 552w, https://miro.medium.com/max/600/1*U224pqhF4WUOZhfmDIWtxA.gif 600w\" sizes=\"600px\">\n",
    "\n"
   ]
  },
  {
   "cell_type": "code",
   "execution_count": null,
   "metadata": {
    "id": "7oJ-HCe6HFEb"
   },
   "outputs": [],
   "source": [
    "import cv2\n",
    "import numpy as np\n",
    "import matplotlib.pyplot as plt\n",
    "import torch \n",
    "\n",
    "\n",
    "from IPython.display import Image\n",
    "import warnings\n",
    "warnings.filterwarnings(\"ignore\")\n",
    "\n",
    "\n",
    "from keras.datasets import mnist\n",
    "from tensorflow.keras.utils import to_categorical\n",
    "from keras import models, layers"
   ]
  },
  {
   "cell_type": "code",
   "execution_count": null,
   "metadata": {
    "colab": {
     "base_uri": "https://localhost:8080/"
    },
    "id": "wEcrz7EW7dpZ",
    "outputId": "1056f6a3-0459-4e0f-a689-6a9b2fcf65e2"
   },
   "outputs": [
    {
     "name": "stdout",
     "output_type": "stream",
     "text": [
      "Downloading data from https://storage.googleapis.com/tensorflow/tf-keras-datasets/mnist.npz\n",
      "11493376/11490434 [==============================] - 0s 0us/step\n",
      "11501568/11490434 [==============================] - 0s 0us/step\n",
      "train_images shape: (60000, 28, 28)\n",
      "train_labels shape: (60000,)\n",
      "test_images shape: (10000, 28, 28)\n",
      "test_labels shape: (10000,)\n"
     ]
    }
   ],
   "source": [
    "(train_images, train_labels), (test_images, test_labels) = mnist.load_data()\n",
    "\n",
    "print(\"train_images shape: {}\".format(train_images.shape))\n",
    "print(\"train_labels shape: {}\".format(train_labels.shape))\n",
    "print(\"test_images shape: {}\".format(test_images.shape))\n",
    "print(\"test_labels shape: {}\".format(test_labels.shape))"
   ]
  },
  {
   "cell_type": "code",
   "execution_count": null,
   "metadata": {
    "colab": {
     "base_uri": "https://localhost:8080/",
     "height": 376
    },
    "id": "ukUqtATY7kpQ",
    "outputId": "3d0e9dbe-b8dd-4dc0-db19-a32843da4b46"
   },
   "outputs": [
    {
     "name": "stdout",
     "output_type": "stream",
     "text": [
      "The first 10 labels in train_labels: [5 0 4 1 9 2 1 3 1 4]\n"
     ]
    },
    {
     "data": {
      "image/png": "[encoded data removed]",
      "text/plain": [
       "<Figure size 432x432 with 9 Axes>"
      ]
     },
     "metadata": {
      "tags": []
     },
     "output_type": "display_data"
    }
   ],
   "source": [
    "print(\"The first 10 labels in train_labels: {}\".format(train_labels[:10]))\n",
    "\n",
    "plt.rcParams[\"font.size\"] = 18\n",
    "plt.figure(figsize=(6,6))\n",
    "\n",
    "for j in range(9):\n",
    "    plt.subplot(3,3, j+1)\n",
    "    plt.imshow(train_images[j],cmap=plt.cm.binary)\n",
    "    plt.tick_params(bottom=False,left=False,labelbottom=False,labelleft=False)\n",
    "    plt.text(0,26,'%d'%train_labels[j])\n",
    "plt.subplots_adjust(wspace=0, hspace=0)\n",
    "plt.show()"
   ]
  },
  {
   "cell_type": "code",
   "execution_count": null,
   "metadata": {
    "id": "iqlpkL197qOo"
   },
   "outputs": [],
   "source": [
    "train_images=train_images.reshape((60000, 28*28)) # change the shape\n",
    "train_images=train_images.astype('float32')/255 # normalization\n",
    "\n",
    "test_images=test_images.reshape((10000, 28*28)) # change the shape\n",
    "test_images=test_images.astype('float32')/255 # normalization"
   ]
  },
  {
   "cell_type": "code",
   "execution_count": null,
   "metadata": {
    "colab": {
     "base_uri": "https://localhost:8080/"
    },
    "id": "VdYCncPT7t7z",
    "outputId": "5a2b78f0-13a4-4900-af85-01bf02a1849e"
   },
   "outputs": [
    {
     "name": "stdout",
     "output_type": "stream",
     "text": [
      "train_labels shape: \n",
      "test_labels shape: \n",
      "The first 10 rows in the train_labels:\n",
      "[[0. 0. 0. 0. 0. 1. 0. 0. 0. 0.]\n",
      " [1. 0. 0. 0. 0. 0. 0. 0. 0. 0.]\n",
      " [0. 0. 0. 0. 1. 0. 0. 0. 0. 0.]\n",
      " [0. 1. 0. 0. 0. 0. 0. 0. 0. 0.]\n",
      " [0. 0. 0. 0. 0. 0. 0. 0. 0. 1.]\n",
      " [0. 0. 1. 0. 0. 0. 0. 0. 0. 0.]\n",
      " [0. 1. 0. 0. 0. 0. 0. 0. 0. 0.]\n",
      " [0. 0. 0. 1. 0. 0. 0. 0. 0. 0.]\n",
      " [0. 1. 0. 0. 0. 0. 0. 0. 0. 0.]\n",
      " [0. 0. 0. 0. 1. 0. 0. 0. 0. 0.]]\n"
     ]
    }
   ],
   "source": [
    "# The one-hot encoding will be performed for train_labels and test_label\n",
    "train_labels = to_categorical(train_labels)\n",
    "test_labels = to_categorical(test_labels)\n",
    "\n",
    "print(\"train_labels shape: \".format(train_labels.shape))\n",
    "print(\"test_labels shape: \".format(test_labels.shape))\n",
    "\n",
    "print(\"The first 10 rows in the train_labels:\\n{}\".format(train_labels[:10]))"
   ]
  },
  {
   "cell_type": "code",
   "execution_count": null,
   "metadata": {
    "colab": {
     "base_uri": "https://localhost:8080/"
    },
    "id": "m9IVdi4t757i",
    "outputId": "c68f480d-f2b7-4927-f0aa-22d4eb1073df"
   },
   "outputs": [
    {
     "name": "stdout",
     "output_type": "stream",
     "text": [
      "Model: \"sequential_1\"\n",
      "_________________________________________________________________\n",
      "Layer (type)                 Output Shape              Param #   \n",
      "=================================================================\n",
      "dense_3 (Dense)              (None, 16)                12560     \n",
      "_________________________________________________________________\n",
      "dense_4 (Dense)              (None, 16)                272       \n",
      "_________________________________________________________________\n",
      "dense_5 (Dense)              (None, 10)                170       \n",
      "=================================================================\n",
      "Total params: 13,002\n",
      "Trainable params: 13,002\n",
      "Non-trainable params: 0\n",
      "_________________________________________________________________\n"
     ]
    }
   ],
   "source": [
    "\n",
    "network = models.Sequential()\n",
    "network.add(layers.Dense(16, activation = 'relu', input_shape=(28*28,)))\n",
    "network.add(layers.Dense(16, activation = 'relu'))\n",
    "network.add(layers.Dense(10, activation='softmax'))\n",
    "\n",
    "network.summary()"
   ]
  },
  {
   "cell_type": "code",
   "execution_count": null,
   "metadata": {
    "colab": {
     "base_uri": "https://localhost:8080/"
    },
    "id": "pNl7jD6LJzbD",
    "outputId": "c0d531e0-54a2-45a6-c5ae-b4d5d8599a5f"
   },
   "outputs": [
    {
     "name": "stdout",
     "output_type": "stream",
     "text": [
      "The numeber of parameters for weights first layer :  12560\n",
      "The numeber of parameters for weights second layer :  272\n",
      "The numeber of parameters for weights third layer :  170\n"
     ]
    }
   ],
   "source": [
    "print(\"The numeber of parameters for weights first layer : \", 28*28*16+16)\n",
    "print(\"The numeber of parameters for weights second layer : \", 16*16 + 16)\n",
    "print(\"The numeber of parameters for weights third layer : \", 10*16+10)"
   ]
  },
  {
   "cell_type": "code",
   "execution_count": null,
   "metadata": {
    "colab": {
     "base_uri": "https://localhost:8080/"
    },
    "id": "29O1vdqZG3fc",
    "outputId": "43eb4d0f-8ff7-4282-93da-a9c0d0974776"
   },
   "outputs": [
    {
     "name": "stdout",
     "output_type": "stream",
     "text": [
      "Epoch 1/5\n",
      "469/469 [==============================] - 2s 3ms/step - loss: 1.1397 - accuracy: 0.6577\n",
      "Epoch 2/5\n",
      "469/469 [==============================] - 2s 3ms/step - loss: 0.2981 - accuracy: 0.9173\n",
      "Epoch 3/5\n",
      "469/469 [==============================] - 1s 3ms/step - loss: 0.2424 - accuracy: 0.9310\n",
      "Epoch 4/5\n",
      "469/469 [==============================] - 1s 2ms/step - loss: 0.2173 - accuracy: 0.9386\n",
      "Epoch 5/5\n",
      "469/469 [==============================] - 1s 2ms/step - loss: 0.2005 - accuracy: 0.9439\n"
     ]
    },
    {
     "data": {
      "text/plain": [
       "<keras.callbacks.History at 0x7fcc655c5dd0>"
      ]
     },
     "execution_count": 13,
     "metadata": {
      "tags": []
     },
     "output_type": "execute_result"
    }
   ],
   "source": [
    "network.compile(optimizer='adam',\n",
    "                          loss='categorical_crossentropy',\n",
    "                          metrics=['accuracy'])\n",
    "                \n",
    "network.fit(train_images, train_labels, epochs=5, batch_size=128)"
   ]
  },
  {
   "cell_type": "code",
   "execution_count": null,
   "metadata": {
    "colab": {
     "base_uri": "https://localhost:8080/"
    },
    "id": "3g49iDGiG8lY",
    "outputId": "e52ce2d3-9eea-4ae2-bd65-922a92eb0860"
   },
   "outputs": [
    {
     "name": "stdout",
     "output_type": "stream",
     "text": [
      "313/313 [==============================] - 1s 1ms/step - loss: 0.1994 - accuracy: 0.9429\n",
      "test_loss 0.19937458634376526\n",
      "test_acc:  0.9429000020027161\n"
     ]
    }
   ],
   "source": [
    "test_loss, test_acc = network.evaluate(test_images, test_labels)\n",
    "print(\"test_loss\", test_loss)\n",
    "print(\"test_acc: \", test_acc)"
   ]
  },
  {
   "cell_type": "markdown",
   "metadata": {
    "id": "1K2RxdRItt0v"
   },
   "source": [
    "# Refernces\n",
    "- http://neuralnetworksanddeeplearning.com/chap1.html\n",
    "- https://arxiv.org/pdf/1609.04747.pdf\n",
    "- http://cs231n.github.io/optimization-1/"
   ]
  }
 ],
 "metadata": {
  "colab": {
   "collapsed_sections": [
    "79D3o6bTqaZ8",
    "nmdsdh9xb6x1",
    "nlsHJu9GsWNE",
    "1K2RxdRItt0v"
   ],
   "include_colab_link": true,
   "name": "001.ipynb",
   "provenance": []
  },
  "kernelspec": {
   "display_name": "Python 3",
   "language": "python",
   "name": "python3"
  },
  "language_info": {
   "codemirror_mode": {
    "name": "ipython",
    "version": 3
   },
   "file_extension": ".py",
   "mimetype": "text/x-python",
   "name": "python",
   "nbconvert_exporter": "python",
   "pygments_lexer": "ipython3",
   "version": "3.9.5"
  }
 },
 "nbformat": 4,
 "nbformat_minor": 1
}
