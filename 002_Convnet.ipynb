{
  "nbformat": 4,
  "nbformat_minor": 0,
  "metadata": {
    "colab": {
      "name": "002-Convnet.ipynb",
      "provenance": [],
      "authorship_tag": "ABX9TyMCBWPt79G2neRsapVDV4s7",
      "include_colab_link": true
    },
    "kernelspec": {
      "name": "python3",
      "display_name": "Python 3"
    },
    "language_info": {
      "name": "python"
    }
  },
  "cells": [
    {
      "cell_type": "markdown",
      "metadata": {
        "id": "view-in-github",
        "colab_type": "text"
      },
      "source": [
        "<a href=\"https://colab.research.google.com/github/nithinivi/Deep_Learning_Discussion/blob/main/002_Convnet.ipynb\" target=\"_parent\"><img src=\"https://colab.research.google.com/assets/colab-badge.svg\" alt=\"Open In Colab\"/></a>"
      ]
    },
    {
      "cell_type": "markdown",
      "metadata": {
        "id": "Zx4xSZW-Hqdd"
      },
      "source": [
        "# Convolution Neural Networks\n",
        "\n",
        "\n",
        "- Max Pooling \n",
        "\n",
        "- Dropout\n",
        "\n",
        "- Batch Normalization \n",
        "\n"
      ]
    },
    {
      "cell_type": "markdown",
      "metadata": {
        "id": "LC5VeYtiHwrU"
      },
      "source": [
        "\n",
        "![Convolution](https://raw.githubusercontent.com/vdumoulin/conv_arithmetic/master/gif/padding_strides.gif \"Conv With Stride and padding\")"
      ]
    },
    {
      "cell_type": "markdown",
      "metadata": {
        "id": "qyZ8p062T3PK"
      },
      "source": [
        "- kamming paper (Imagenet )\n",
        "\n",
        "- what convolutions layer are learning (Fergerson Paper)"
      ]
    },
    {
      "cell_type": "markdown",
      "metadata": {
        "id": "8X1_pJniQ9CF"
      },
      "source": [
        "# References\n",
        "\n",
        "- http://colah.github.io/posts/2014-07-Understanding-Convolutions/"
      ]
    },
    {
      "cell_type": "code",
      "metadata": {
        "id": "HXcB9Lf4RAH_"
      },
      "source": [
        ""
      ],
      "execution_count": null,
      "outputs": []
    }
  ]
}