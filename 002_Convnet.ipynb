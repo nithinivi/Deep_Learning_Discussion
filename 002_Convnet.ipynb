{
  "nbformat": 4,
  "nbformat_minor": 0,
  "metadata": {
    "colab": {
      "name": "002-Convnet.ipynb",
      "provenance": [],
      "include_colab_link": true
    },
    "kernelspec": {
      "name": "python3",
      "display_name": "Python 3"
    },
    "language_info": {
      "name": "python"
    }
  },
  "cells": [
    {
      "cell_type": "markdown",
      "metadata": {
        "id": "view-in-github",
        "colab_type": "text"
      },
      "source": [
        "<a href=\"https://colab.research.google.com/github/nithinivi/Deep_Learning_Discussion/blob/main/002_Convnet.ipynb\" target=\"_parent\"><img src=\"https://colab.research.google.com/assets/colab-badge.svg\" alt=\"Open In Colab\"/></a>"
      ]
    },
    {
      "cell_type": "markdown",
      "metadata": {
        "id": "Zx4xSZW-Hqdd"
      },
      "source": [
        "# Convolution Neural Networks\n",
        "\n",
        "\n",
        "\n",
        "\n",
        "- Dropout\n",
        "\n",
        "<img src=\"https://raw.githubusercontent.com/hiromis/notes/master/lesson6/6.png\" width=800>\n",
        "\n",
        "\n",
        "- Batch Normalization \n",
        "\n",
        "<img src=\"https://raw.githubusercontent.com/hiromis/notes/master/lesson6/14.png\" width=1000>\n",
        "\n",
        "\n",
        "<img src=\"https://raw.githubusercontent.com/hiromis/notes/master/lesson6/15.png\" width=1000>"
      ]
    },
    {
      "cell_type": "markdown",
      "metadata": {
        "id": "LC5VeYtiHwrU"
      },
      "source": [
        "\n",
        "![Convolution](https://raw.githubusercontent.com/vdumoulin/conv_arithmetic/master/gif/padding_strides.gif \"Conv With Stride and padding\")"
      ]
    },
    {
      "cell_type": "code",
      "metadata": {
        "id": "gm1IMS-gOO_j"
      },
      "source": [
        "import tensorflow as tf\n",
        "\n",
        "from tensorflow.keras import datasets, layers, models\n",
        "import matplotlib.pyplot as plt"
      ],
      "execution_count": null,
      "outputs": []
    },
    {
      "cell_type": "code",
      "metadata": {
        "id": "TBwfotfYOQNG"
      },
      "source": [
        "(train_images, train_labels), (test_images, test_labels) = datasets.cifar10.load_data()\n",
        "\n",
        "# Normalize pixel values to be between 0 and 1\n",
        "train_images, test_images = train_images / 255.0, test_images / 255.0"
      ],
      "execution_count": null,
      "outputs": []
    },
    {
      "cell_type": "markdown",
      "metadata": {
        "id": "qyZ8p062T3PK"
      },
      "source": [
        "- what convolutions layer are learning (Fergrus Paper)\n",
        "\n",
        "\n",
        "<img src=\"https://raw.githubusercontent.com/hiromis/notes/master/lesson1/100.png\" width=400>\n",
        "\n",
        "\n",
        "<img src=\"https://raw.githubusercontent.com/hiromis/notes/master/lesson1/125.png\" width=400>\n",
        "\n",
        "<img src=\"https://raw.githubusercontent.com/hiromis/notes/master/lesson1/127.png\" width=400>"
      ]
    },
    {
      "cell_type": "markdown",
      "metadata": {
        "id": "8X1_pJniQ9CF"
      },
      "source": [
        "# References\n",
        "\n",
        "- http://colah.github.io/posts/2014-07-Understanding-Convolutions/"
      ]
    },
    {
      "cell_type": "code",
      "metadata": {
        "id": "HXcB9Lf4RAH_"
      },
      "source": [
        ""
      ],
      "execution_count": null,
      "outputs": []
    }
  ]
}