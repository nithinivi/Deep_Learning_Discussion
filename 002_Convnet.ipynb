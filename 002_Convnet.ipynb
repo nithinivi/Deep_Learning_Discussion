{
  "nbformat": 4,
  "nbformat_minor": 0,
  "metadata": {
    "colab": {
      "name": "002-Convnet.ipynb",
      "provenance": [],
      "authorship_tag": "ABX9TyMmG+bTqHq7+8puOcTMaigv",
      "include_colab_link": true
    },
    "kernelspec": {
      "name": "python3",
      "display_name": "Python 3"
    },
    "language_info": {
      "name": "python"
    }
  },
  "cells": [
    {
      "cell_type": "markdown",
      "metadata": {
        "id": "view-in-github",
        "colab_type": "text"
      },
      "source": [
        "<a href=\"https://colab.research.google.com/github/nithinivi/Deep_Learning_Discussion/blob/main/002_Convnet.ipynb\" target=\"_parent\"><img src=\"https://colab.research.google.com/assets/colab-badge.svg\" alt=\"Open In Colab\"/></a>"
      ]
    },
    {
      "cell_type": "markdown",
      "metadata": {
        "id": "Zx4xSZW-Hqdd"
      },
      "source": [
        "# Convolution Neural Networks\n",
        "\n",
        "\n",
        "- kamming paper (Imagenet )\n",
        "\n",
        "- what convolutions layer are learning (Fergerson Paper)\n",
        "\n",
        "- Max Pooling \n",
        "\n",
        "- batch Normalization \n",
        "\n"
      ]
    },
    {
      "cell_type": "markdown",
      "metadata": {
        "id": "LC5VeYtiHwrU"
      },
      "source": [
        "\n",
        "![Convolution](https://raw.githubusercontent.com/vdumoulin/conv_arithmetic/master/gif/padding_strides.gif \"Conv With Stride and padding\")"
      ]
    }
  ]
}